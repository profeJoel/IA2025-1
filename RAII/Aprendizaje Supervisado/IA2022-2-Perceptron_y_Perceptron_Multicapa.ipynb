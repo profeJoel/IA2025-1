{
 "cells": [
  {
   "cell_type": "markdown",
   "metadata": {
    "id": "fwxPny205hDk"
   },
   "source": [
    "###Datasets\n"
   ]
  },
  {
   "cell_type": "code",
   "execution_count": 1,
   "metadata": {
    "id": "W1ev_nNb5Qwd"
   },
   "outputs": [],
   "source": [
    "#AND\n",
    "X_train = [[1,1],\n",
    "           [1,0],\n",
    "           [0,1],\n",
    "           [0,0]]\n",
    "y_train = [1,0,0,0]"
   ]
  },
  {
   "cell_type": "code",
   "execution_count": 5,
   "metadata": {
    "id": "lpkUoazP55mm"
   },
   "outputs": [],
   "source": [
    "#OR\n",
    "X_train = [[1,1],\n",
    "           [1,0],\n",
    "           [0,1],\n",
    "           [0,0]]\n",
    "y_train = [1,1,1,0]"
   ]
  },
  {
   "cell_type": "code",
   "execution_count": 7,
   "metadata": {
    "id": "r03uv8lb59pM"
   },
   "outputs": [],
   "source": [
    "#NOT\n",
    "X_train = [[0],[1]]\n",
    "y_train = [1,0]"
   ]
  },
  {
   "cell_type": "markdown",
   "metadata": {
    "id": "V1j_9c1C6IOS"
   },
   "source": [
    "###Modelo de Perceptrón"
   ]
  },
  {
   "cell_type": "code",
   "execution_count": 3,
   "metadata": {
    "id": "v2cT3JQU6L6-"
   },
   "outputs": [],
   "source": [
    "import sklearn.metrics as metric\n",
    "import numpy as np"
   ]
  },
  {
   "cell_type": "code",
   "execution_count": 17,
   "metadata": {
    "colab": {
     "base_uri": "https://localhost:8080/"
    },
    "id": "6M54g8dx6YJZ",
    "outputId": "1577ad1e-3c7f-41c4-d2af-3cf73adc304b"
   },
   "outputs": [
    {
     "name": "stdout",
     "output_type": "stream",
     "text": [
      "[0 0 0 0]\n",
      "Precisión =  0.5\n",
      "Bias =  [0.] Parámetros:  [[0. 0.]]\n"
     ]
    }
   ],
   "source": [
    "#Creación de Perceptrón\n",
    "from sklearn.linear_model import Perceptron\n",
    "\n",
    "red = Perceptron(max_iter = 300)\n",
    "red.fit(X_train, y_train)\n",
    "\n",
    "X_test = X_train\n",
    "y_test = y_train\n",
    "\n",
    "y_pred = red.predict(X_train)\n",
    "print(y_pred)\n",
    "\n",
    "precision = metric.accuracy_score(y_test, y_pred, normalize= True)\n",
    "print(\"Precisión = \", precision)\n",
    "print(\"Bias = \", red.intercept_, \"Parámetros: \", red.coef_)"
   ]
  },
  {
   "cell_type": "code",
   "execution_count": 18,
   "metadata": {
    "id": "qRK5UQUn8xRe"
   },
   "outputs": [],
   "source": [
    "#XOR\n",
    "X_train = [[1,1],\n",
    "           [1,0],\n",
    "           [0,1],\n",
    "           [0,0]]\n",
    "y_train = [0,1,1,0]"
   ]
  },
  {
   "cell_type": "code",
   "execution_count": 64,
   "metadata": {
    "id": "Z85KoTzp_KXG"
   },
   "outputs": [],
   "source": [
    "#XNOR\n",
    "X_train = [[1,1],\n",
    "           [1,0],\n",
    "           [0,1],\n",
    "           [0,0]]\n",
    "y_train = [1,0,0,1]"
   ]
  },
  {
   "cell_type": "code",
   "execution_count": 67,
   "metadata": {
    "colab": {
     "base_uri": "https://localhost:8080/"
    },
    "id": "RzbHABL89Los",
    "outputId": "4eb0dbda-8365-44e3-b401-0ad73f856129"
   },
   "outputs": [
    {
     "name": "stdout",
     "output_type": "stream",
     "text": [
      "[1 0 0 1]\n",
      "Precisión =  1.0\n",
      "[(2, 2), (2, 1), (1, 1)]\n"
     ]
    },
    {
     "ename": "AttributeError",
     "evalue": "'MLPClassifier' object has no attribute 'intercept_'",
     "output_type": "error",
     "traceback": [
      "\u001b[0;31m---------------------------------------------------------------------------\u001b[0m",
      "\u001b[0;31mAttributeError\u001b[0m                            Traceback (most recent call last)",
      "Cell \u001b[0;32mIn[67], line 19\u001b[0m\n\u001b[1;32m     16\u001b[0m \u001b[38;5;28mprint\u001b[39m(\u001b[38;5;124m\"\u001b[39m\u001b[38;5;124mPrecisión = \u001b[39m\u001b[38;5;124m\"\u001b[39m, precision)\n\u001b[1;32m     18\u001b[0m \u001b[38;5;28mprint\u001b[39m([coef\u001b[38;5;241m.\u001b[39mshape \u001b[38;5;28;01mfor\u001b[39;00m coef \u001b[38;5;129;01min\u001b[39;00m red_MLP\u001b[38;5;241m.\u001b[39mcoefs_])\n\u001b[0;32m---> 19\u001b[0m \u001b[38;5;28mprint\u001b[39m([coef\u001b[38;5;241m.\u001b[39mshape \u001b[38;5;28;01mfor\u001b[39;00m coef \u001b[38;5;129;01min\u001b[39;00m red_MLP\u001b[38;5;241m.\u001b[39mintercept_])\n",
      "\u001b[0;31mAttributeError\u001b[0m: 'MLPClassifier' object has no attribute 'intercept_'"
     ]
    }
   ],
   "source": [
    "#Perceptrón Multicapa\n",
    "from sklearn.neural_network import MLPClassifier\n",
    "\n",
    "red_MLP = MLPClassifier(solver = 'lbfgs', hidden_layer_sizes = (2,1), activation = 'logistic', max_iter=10000000)\n",
    "#red_MLP = MLPClassifier(solver = 'sgd', hidden_layer_sizes = (2,1), activation = 'logistic', max_iter=2000)\n",
    "\n",
    "red_MLP.fit(X_train, y_train)\n",
    "\n",
    "X_test = X_train\n",
    "y_test = y_train\n",
    "\n",
    "y_pred = red_MLP.predict(X_train)\n",
    "print(y_pred)\n",
    "\n",
    "precision = metric.accuracy_score(np.array(y_test).flatten(), np.array(y_pred).flatten(), normalize= True)\n",
    "print(\"Precisión = \", precision)\n",
    "\n",
    "print([coef.shape for coef in red_MLP.coefs_])\n",
    "print([coef.shape for coef in red_MLP.intercept_])"
   ]
  }
 ],
 "metadata": {
  "colab": {
   "collapsed_sections": [],
   "provenance": []
  },
  "kernelspec": {
   "display_name": "Python 3 (ipykernel)",
   "language": "python",
   "name": "python3"
  },
  "language_info": {
   "codemirror_mode": {
    "name": "ipython",
    "version": 3
   },
   "file_extension": ".py",
   "mimetype": "text/x-python",
   "name": "python",
   "nbconvert_exporter": "python",
   "pygments_lexer": "ipython3",
   "version": "3.11.5"
  }
 },
 "nbformat": 4,
 "nbformat_minor": 1
}
